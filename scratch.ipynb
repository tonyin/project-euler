{
 "cells": [
  {
   "cell_type": "code",
   "execution_count": 1,
   "metadata": {
    "collapsed": true
   },
   "outputs": [],
   "source": [
    "# Problem:\n",
    "# Find the largest 9-digit pandigital from concatenated product of an integer and (1,2,...,n) where n > 1"
   ]
  },
  {
   "cell_type": "code",
   "execution_count": 47,
   "metadata": {
    "collapsed": true
   },
   "outputs": [],
   "source": [
    "import re"
   ]
  },
  {
   "cell_type": "code",
   "execution_count": 21,
   "metadata": {
    "collapsed": false
   },
   "outputs": [],
   "source": [
    "def concatenate_product(n, cp='', i=1):\n",
    "    if len(cp) >= 9:\n",
    "        return cp\n",
    "    else:\n",
    "        cp += str(n*i)\n",
    "        i += 1\n",
    "        return concatenate_product(n, cp, i)"
   ]
  },
  {
   "cell_type": "code",
   "execution_count": 121,
   "metadata": {
    "collapsed": false
   },
   "outputs": [],
   "source": [
    "def is_pandigital(n, digits=list(range(1,10))):\n",
    "    n = str(n)\n",
    "    for i in digits:\n",
    "        if str(i) in n:\n",
    "            n = re.sub(str(i), '', n)\n",
    "        else:\n",
    "            return False\n",
    "    return True"
   ]
  },
  {
   "cell_type": "code",
   "execution_count": 122,
   "metadata": {
    "collapsed": false
   },
   "outputs": [],
   "source": [
    "l = 918273645"
   ]
  },
  {
   "cell_type": "code",
   "execution_count": 123,
   "metadata": {
    "collapsed": false,
    "scrolled": true
   },
   "outputs": [
    {
     "name": "stdout",
     "output_type": "stream",
     "text": [
      "918273645\n",
      "926718534\n",
      "927318546\n",
      "932718654\n",
      "932718654\n"
     ]
    }
   ],
   "source": [
    "for i in range(1,10000):\n",
    "    n = concatenate_product(i)\n",
    "    if len(n) > 9: continue\n",
    "    elif int(n) < l: continue\n",
    "    elif not is_pandigital(n): continue\n",
    "    else:\n",
    "        l = int(n)\n",
    "        print(l)\n",
    "print(l)"
   ]
  },
  {
   "cell_type": "code",
   "execution_count": null,
   "metadata": {
    "collapsed": true
   },
   "outputs": [],
   "source": []
  }
 ],
 "metadata": {
  "kernelspec": {
   "display_name": "Python 3",
   "language": "python",
   "name": "python3"
  },
  "language_info": {
   "codemirror_mode": {
    "name": "ipython",
    "version": 3
   },
   "file_extension": ".py",
   "mimetype": "text/x-python",
   "name": "python",
   "nbconvert_exporter": "python",
   "pygments_lexer": "ipython3",
   "version": "3.6.0"
  }
 },
 "nbformat": 4,
 "nbformat_minor": 0
}
