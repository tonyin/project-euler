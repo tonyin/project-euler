{
 "cells": [
  {
   "cell_type": "code",
   "execution_count": null,
   "metadata": {
    "collapsed": true
   },
   "outputs": [],
   "source": [
    "# total possible permutations is 10!\n",
    "# start with 0 and check permutations\n",
    "# if > 1m, then move down the lexicographic hierarchy"
   ]
  },
  {
   "cell_type": "code",
   "execution_count": 200,
   "metadata": {
    "collapsed": false
   },
   "outputs": [],
   "source": [
    "from math import factorial\n",
    "import pdb\n",
    "NTH = 1000000"
   ]
  },
  {
   "cell_type": "code",
   "execution_count": 208,
   "metadata": {
    "collapsed": false
   },
   "outputs": [],
   "source": [
    "def find_nth(result, idx_total, idx_digit, possible):\n",
    "    if len(possible) == 1:\n",
    "        return result + str(possible[0])\n",
    "    elif idx_digit == len(possible) - 1:\n",
    "        return find_nth(result + str(possible[-1]), idx_total, 0, possible[:-1])\n",
    "    elif idx_total + factorial(len(possible)-1) >= NTH:\n",
    "        return find_nth(result + str(possible[idx_digit]), idx_total, 0, possible[:idx_digit] + possible[idx_digit + 1:])            \n",
    "    else:\n",
    "        return find_nth(result, idx_total + factorial(len(possible)-1), idx_digit + 1, possible)"
   ]
  },
  {
   "cell_type": "code",
   "execution_count": 209,
   "metadata": {
    "collapsed": false,
    "scrolled": true
   },
   "outputs": [
    {
     "data": {
      "text/plain": [
       "'2783915460'"
      ]
     },
     "execution_count": 209,
     "metadata": {},
     "output_type": "execute_result"
    }
   ],
   "source": [
    "find_nth('', 0, 0, [0,1,2,3,4,5,6,7,8,9])"
   ]
  },
  {
   "cell_type": "code",
   "execution_count": null,
   "metadata": {
    "collapsed": true
   },
   "outputs": [],
   "source": []
  }
 ],
 "metadata": {
  "kernelspec": {
   "display_name": "Python 2",
   "language": "python",
   "name": "python2"
  },
  "language_info": {
   "codemirror_mode": {
    "name": "ipython",
    "version": 2
   },
   "file_extension": ".py",
   "mimetype": "text/x-python",
   "name": "python",
   "nbconvert_exporter": "python",
   "pygments_lexer": "ipython2",
   "version": "2.7.10"
  }
 },
 "nbformat": 4,
 "nbformat_minor": 0
}
