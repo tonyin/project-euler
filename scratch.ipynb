{
 "cells": [
  {
   "cell_type": "code",
   "execution_count": 1,
   "metadata": {
    "collapsed": true
   },
   "outputs": [],
   "source": [
    "# Problem:\n",
    "# If the product of these four fractions is given in its lowest common terms, find the value of the denominator."
   ]
  },
  {
   "cell_type": "code",
   "execution_count": 9,
   "metadata": {
    "collapsed": false
   },
   "outputs": [],
   "source": [
    "curios = []\n",
    "for i in range(1, 10):\n",
    "    for j in range(1, 10):\n",
    "        if i == j: continue\n",
    "        n1 = int(str(i)+str(j))\n",
    "        \n",
    "        for k in range(1, 10):\n",
    "            for l in range(1, 10):\n",
    "                if i == j: continue\n",
    "                n2 = int(str(k)+str(l))\n",
    "                if n1 >= n2: continue\n",
    "                \n",
    "                if i == k and n1/n2 == j/l:\n",
    "                    curios.append((n1, n2))\n",
    "                if i == l and n1/n2 == j/k:\n",
    "                    curios.append((n1, n2))\n",
    "                if j == k and n1/n2 == i/l:\n",
    "                    curios.append((n1, n2))\n",
    "                if j == l and n1/n2 == i/k:\n",
    "                    curios.append((n1, n2))"
   ]
  },
  {
   "cell_type": "code",
   "execution_count": 10,
   "metadata": {
    "collapsed": false
   },
   "outputs": [
    {
     "data": {
      "text/plain": [
       "[(16, 64), (19, 95), (26, 65), (49, 98)]"
      ]
     },
     "execution_count": 10,
     "metadata": {},
     "output_type": "execute_result"
    }
   ],
   "source": [
    "curios"
   ]
  },
  {
   "cell_type": "code",
   "execution_count": 27,
   "metadata": {
    "collapsed": false
   },
   "outputs": [],
   "source": [
    "def prod(l):\n",
    "    if len(l) > 1:\n",
    "        return l[0] * prod(l[1:])\n",
    "    else:\n",
    "        return l[0]"
   ]
  },
  {
   "cell_type": "code",
   "execution_count": 33,
   "metadata": {
    "collapsed": false,
    "scrolled": true
   },
   "outputs": [],
   "source": [
    "n = prod([n for (n,d) in curios])\n",
    "d = prod([d for (n,d) in curios])"
   ]
  },
  {
   "cell_type": "code",
   "execution_count": 34,
   "metadata": {
    "collapsed": false
   },
   "outputs": [
    {
     "data": {
      "text/plain": [
       "387296"
      ]
     },
     "execution_count": 34,
     "metadata": {},
     "output_type": "execute_result"
    }
   ],
   "source": [
    "n"
   ]
  },
  {
   "cell_type": "code",
   "execution_count": 35,
   "metadata": {
    "collapsed": false
   },
   "outputs": [
    {
     "data": {
      "text/plain": [
       "38729600"
      ]
     },
     "execution_count": 35,
     "metadata": {},
     "output_type": "execute_result"
    }
   ],
   "source": [
    "d"
   ]
  },
  {
   "cell_type": "code",
   "execution_count": null,
   "metadata": {
    "collapsed": true
   },
   "outputs": [],
   "source": []
  }
 ],
 "metadata": {
  "kernelspec": {
   "display_name": "Python 3",
   "language": "python",
   "name": "python3"
  },
  "language_info": {
   "codemirror_mode": {
    "name": "ipython",
    "version": 3
   },
   "file_extension": ".py",
   "mimetype": "text/x-python",
   "name": "python",
   "nbconvert_exporter": "python",
   "pygments_lexer": "ipython3",
   "version": "3.6.0"
  }
 },
 "nbformat": 4,
 "nbformat_minor": 0
}
