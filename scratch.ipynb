{
 "cells": [
  {
   "cell_type": "code",
   "execution_count": null,
   "metadata": {
    "collapsed": true
   },
   "outputs": [],
   "source": [
    "# from 2 to 1000\n",
    "# store divisions into list\n",
    "# check remainder and see if new division exists in list\n",
    "# if so, then count distance between first instance and current"
   ]
  },
  {
   "cell_type": "code",
   "execution_count": 35,
   "metadata": {
    "collapsed": false
   },
   "outputs": [
    {
     "name": "stdout",
     "output_type": "stream",
     "text": [
      "3\n",
      "1\n",
      "7\n",
      "6\n",
      "51\n",
      "7\n",
      "81\n",
      "8\n"
     ]
    }
   ],
   "source": [
    "max_repeat = 0\n",
    "for i in range(1, 1000):\n",
    "    divs = []\n",
    "    if i < 10:\n",
    "        j = 10\n",
    "        while j / i not in divs:\n",
    "            if j % i == 0: break\n",
    "            if j < i:\n",
    "                j *= 10\n",
    "                continue\n",
    "            divs.append(j/i)\n",
    "            j = j - i*(j/i)\n",
    "        if divs and (j/i in divs):\n",
    "            repeat = len(divs) - divs.index(j/i)\n",
    "            if repeat > max_repeat:\n",
    "                print i\n",
    "                print repeat\n",
    "                max_repeat = repeat\n",
    "    if i >= 10 and i < 100:\n",
    "        j = 100\n",
    "        while j / i not in divs:\n",
    "            if j % i == 0: break\n",
    "            if j < i:\n",
    "                j *= 10\n",
    "                continue\n",
    "            divs.append(j/i)\n",
    "            j = j - i*(j/i)\n",
    "        if divs and (j/i in divs):\n",
    "            repeat = len(divs) - divs.index(j/i)\n",
    "            if repeat > max_repeat:\n",
    "                print i\n",
    "                print repeat\n",
    "                max_repeat = repeat\n",
    "    if i >= 100 and i < 1000:\n",
    "        j = 1000\n",
    "        while j / i not in divs:\n",
    "            if j % i == 0: break\n",
    "            if j < i:\n",
    "                j *= 10\n",
    "                continue\n",
    "            divs.append(j/i)\n",
    "            j = j - i*(j/i)\n",
    "        if divs and (j/i in divs):\n",
    "            repeat = len(divs) - divs.index(j/i)\n",
    "            if repeat > max_repeat:\n",
    "                print i\n",
    "                print repeat\n",
    "                max_repeat = repeat"
   ]
  },
  {
   "cell_type": "code",
   "execution_count": null,
   "metadata": {
    "collapsed": true
   },
   "outputs": [],
   "source": []
  }
 ],
 "metadata": {
  "kernelspec": {
   "display_name": "Python 2",
   "language": "python",
   "name": "python2"
  },
  "language_info": {
   "codemirror_mode": {
    "name": "ipython",
    "version": 2
   },
   "file_extension": ".py",
   "mimetype": "text/x-python",
   "name": "python",
   "nbconvert_exporter": "python",
   "pygments_lexer": "ipython2",
   "version": "2.7.9"
  }
 },
 "nbformat": 4,
 "nbformat_minor": 0
}
