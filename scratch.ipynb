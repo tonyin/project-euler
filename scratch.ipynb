{
 "cells": [
  {
   "cell_type": "code",
   "execution_count": 1,
   "metadata": {
    "collapsed": true
   },
   "outputs": [],
   "source": [
    "# Problem:\n",
    "# What value of p <= 1000 is there a maximal number of solutions for p as perimeter of right triangle with integer sides?"
   ]
  },
  {
   "cell_type": "code",
   "execution_count": 2,
   "metadata": {
    "collapsed": true
   },
   "outputs": [],
   "source": [
    "import math"
   ]
  },
  {
   "cell_type": "code",
   "execution_count": 3,
   "metadata": {
    "collapsed": true
   },
   "outputs": [],
   "source": [
    "def right_triangle(a, b, c):\n",
    "    if (a+b<=c) or (a+c<=b) or (b+c<=a):\n",
    "        return False\n",
    "    return a**2+b**2 == c**2"
   ]
  },
  {
   "cell_type": "code",
   "execution_count": 4,
   "metadata": {
    "collapsed": true
   },
   "outputs": [],
   "source": [
    "P = 1000"
   ]
  },
  {
   "cell_type": "code",
   "execution_count": 9,
   "metadata": {
    "collapsed": false
   },
   "outputs": [
    {
     "name": "stdout",
     "output_type": "stream",
     "text": [
      "12\n",
      "60\n",
      "120\n",
      "240\n",
      "420\n",
      "720\n",
      "840\n"
     ]
    }
   ],
   "source": [
    "max_solutions = 0\n",
    "max_p = 3\n",
    "for p in range(3,P+1):\n",
    "    solutions = 0\n",
    "    for a in range(1,math.ceil((p+1)/2)):\n",
    "        for b in range(a,math.ceil((p+1)/2)):\n",
    "            c = p-a-b\n",
    "            if right_triangle(a,b,c):\n",
    "                solutions += 1\n",
    "    if solutions > max_solutions:\n",
    "        max_solutions = solutions\n",
    "        max_p = p\n",
    "        print(max_p)"
   ]
  },
  {
   "cell_type": "code",
   "execution_count": null,
   "metadata": {
    "collapsed": true
   },
   "outputs": [],
   "source": []
  }
 ],
 "metadata": {
  "kernelspec": {
   "display_name": "Python 3",
   "language": "python",
   "name": "python3"
  },
  "language_info": {
   "codemirror_mode": {
    "name": "ipython",
    "version": 3
   },
   "file_extension": ".py",
   "mimetype": "text/x-python",
   "name": "python",
   "nbconvert_exporter": "python",
   "pygments_lexer": "ipython3",
   "version": "3.6.0"
  }
 },
 "nbformat": 4,
 "nbformat_minor": 0
}
