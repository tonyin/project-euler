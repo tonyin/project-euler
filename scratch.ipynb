{
 "cells": [
  {
   "cell_type": "code",
   "execution_count": 1,
   "metadata": {
    "collapsed": true
   },
   "outputs": [],
   "source": [
    "# Problem:\n",
    "# How many circular primes are there below one million?"
   ]
  },
  {
   "cell_type": "code",
   "execution_count": 2,
   "metadata": {
    "collapsed": true
   },
   "outputs": [],
   "source": [
    "import math"
   ]
  },
  {
   "cell_type": "code",
   "execution_count": 3,
   "metadata": {
    "collapsed": true
   },
   "outputs": [],
   "source": [
    "LIMIT = 1000000"
   ]
  },
  {
   "cell_type": "code",
   "execution_count": 18,
   "metadata": {
    "collapsed": false
   },
   "outputs": [],
   "source": [
    "primes = [True for i in range(1, LIMIT+1)]\n",
    "primes[1] = False\n",
    "for i in range(2, LIMIT):\n",
    "    if primes[i] == False: continue\n",
    "    primes[i] = True\n",
    "    if i**2 < LIMIT:\n",
    "        for j in range(i**2, math.ceil(math.sqrt(LIMIT))+1, i):\n",
    "            if j % i == 0:\n",
    "                primes[j] = False"
   ]
  },
  {
   "cell_type": "code",
   "execution_count": 19,
   "metadata": {
    "collapsed": true
   },
   "outputs": [],
   "source": [
    "def circs(n, orig):\n",
    "    n2 = str(n)[-1] + str(n)[:-1]\n",
    "    if n2 == str(orig): return [int(n2)]\n",
    "    else:\n",
    "        return [int(n2)] + circs(n2, orig)"
   ]
  },
  {
   "cell_type": "code",
   "execution_count": 20,
   "metadata": {
    "collapsed": false
   },
   "outputs": [
    {
     "name": "stdout",
     "output_type": "stream",
     "text": [
      "992763\n"
     ]
    }
   ],
   "source": [
    "c = 0\n",
    "for i in range(1, LIMIT):\n",
    "    if primes[i] == True:\n",
    "        check = circs(i, i)\n",
    "        if all(primes[j] == True for j in check):\n",
    "            c += 1\n",
    "print(c)"
   ]
  },
  {
   "cell_type": "code",
   "execution_count": null,
   "metadata": {
    "collapsed": true
   },
   "outputs": [],
   "source": []
  }
 ],
 "metadata": {
  "kernelspec": {
   "display_name": "Python 3",
   "language": "python",
   "name": "python3"
  },
  "language_info": {
   "codemirror_mode": {
    "name": "ipython",
    "version": 3
   },
   "file_extension": ".py",
   "mimetype": "text/x-python",
   "name": "python",
   "nbconvert_exporter": "python",
   "pygments_lexer": "ipython3",
   "version": "3.6.0"
  }
 },
 "nbformat": 4,
 "nbformat_minor": 0
}
