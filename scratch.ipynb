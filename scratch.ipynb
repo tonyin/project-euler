{
 "cells": [
  {
   "cell_type": "code",
   "execution_count": 1,
   "metadata": {
    "collapsed": true
   },
   "outputs": [],
   "source": [
    "# Problem:\n",
    "# Find the sum of all numbers, less than one million, which are palindromic in base 10 and base 2."
   ]
  },
  {
   "cell_type": "code",
   "execution_count": null,
   "metadata": {
    "collapsed": true
   },
   "outputs": [],
   "source": [
    "# find all palindrones < 1m\n",
    "# function that converts to base 2\n",
    "# check for palindromicity"
   ]
  },
  {
   "cell_type": "code",
   "execution_count": 43,
   "metadata": {
    "collapsed": true
   },
   "outputs": [],
   "source": [
    "def is_palindrone(n):\n",
    "    if n < 1: return False\n",
    "    elif n < 10: return True\n",
    "    elif len(str(n)) % 2 == 0:\n",
    "        for i in range(int((len(str(n))/2))):\n",
    "            if str(n)[i] != str(n)[-i-1]: return False\n",
    "        return True\n",
    "    else:\n",
    "        for i in range(int((len(str(n))-1)/2)):\n",
    "            if str(n)[i] != str(n)[-i-1]: return False\n",
    "        return True"
   ]
  },
  {
   "cell_type": "code",
   "execution_count": 77,
   "metadata": {
    "collapsed": false
   },
   "outputs": [],
   "source": [
    "def base_10to2(n):\n",
    "    d = 0\n",
    "    while 2**(d+1) <= n:\n",
    "        d += 1\n",
    "    b2 = []\n",
    "    for i in sorted(range(d+1), reverse=True):\n",
    "        if 2**i <= n:\n",
    "            b2.append(1)\n",
    "            n = n - 2**i\n",
    "        else:\n",
    "            b2.append(0)\n",
    "    return int(''.join([str(i) for i in b2]))"
   ]
  },
  {
   "cell_type": "code",
   "execution_count": 80,
   "metadata": {
    "collapsed": false
   },
   "outputs": [
    {
     "data": {
      "text/plain": [
       "872187"
      ]
     },
     "execution_count": 80,
     "metadata": {},
     "output_type": "execute_result"
    }
   ],
   "source": [
    "sum([i for i in range(1000000) if is_palindrone(i) and is_palindrone(base_10to2(i))])"
   ]
  },
  {
   "cell_type": "code",
   "execution_count": null,
   "metadata": {
    "collapsed": true
   },
   "outputs": [],
   "source": []
  }
 ],
 "metadata": {
  "kernelspec": {
   "display_name": "Python 3",
   "language": "python",
   "name": "python3"
  },
  "language_info": {
   "codemirror_mode": {
    "name": "ipython",
    "version": 3
   },
   "file_extension": ".py",
   "mimetype": "text/x-python",
   "name": "python",
   "nbconvert_exporter": "python",
   "pygments_lexer": "ipython3",
   "version": "3.6.0"
  }
 },
 "nbformat": 4,
 "nbformat_minor": 0
}
