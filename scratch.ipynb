{
 "cells": [
  {
   "cell_type": "code",
   "execution_count": null,
   "metadata": {
    "collapsed": true
   },
   "outputs": [],
   "source": [
    "# factorize\n",
    "# calc abundanciness\n",
    "# iterate through abundants to calc possibles\n",
    "# remove possibles from range 28123\n",
    "# return sum"
   ]
  },
  {
   "cell_type": "code",
   "execution_count": 22,
   "metadata": {
    "collapsed": false
   },
   "outputs": [],
   "source": [
    "from math import sqrt, ceil\n",
    "MAX = 28123"
   ]
  },
  {
   "cell_type": "code",
   "execution_count": 120,
   "metadata": {
    "collapsed": false
   },
   "outputs": [],
   "source": [
    "def get_proper_divisors(n):\n",
    "    proper_divisors = []\n",
    "    for i in range(1, int(ceil(sqrt(n)))+1):\n",
    "        if n % i == 0:\n",
    "            proper_divisors.append(i)\n",
    "            proper_divisors.append(n/i)\n",
    "    proper_divisors.remove(n)\n",
    "    return list(set(proper_divisors))"
   ]
  },
  {
   "cell_type": "code",
   "execution_count": 121,
   "metadata": {
    "collapsed": true
   },
   "outputs": [],
   "source": [
    "abundants = []\n",
    "for i in range(12, MAX+1):\n",
    "    if sum(get_proper_divisors(i)) > i:\n",
    "        abundants.append(i)\n",
    "abundants.sort()"
   ]
  },
  {
   "cell_type": "code",
   "execution_count": 123,
   "metadata": {
    "collapsed": false
   },
   "outputs": [],
   "source": [
    "possibles = []\n",
    "for i in range(len(abundants)):\n",
    "    if abundants[i]*2 > MAX: break\n",
    "    for j in range(len(abundants)):\n",
    "        j += i\n",
    "        if j == len(abundants): break\n",
    "        possible = abundants[i] + abundants[j]\n",
    "        possibles.append(possible)"
   ]
  },
  {
   "cell_type": "code",
   "execution_count": 124,
   "metadata": {
    "collapsed": true
   },
   "outputs": [],
   "source": [
    "a = sorted(list(set(possibles)))"
   ]
  },
  {
   "cell_type": "code",
   "execution_count": 125,
   "metadata": {
    "collapsed": false
   },
   "outputs": [
    {
     "data": {
      "text/plain": [
       "[24, 30, 32, 36, 38, 40, 42, 44, 48, 50, 52, 54, 56, 58, 60]"
      ]
     },
     "execution_count": 125,
     "metadata": {},
     "output_type": "execute_result"
    }
   ],
   "source": [
    "a[:15]"
   ]
  },
  {
   "cell_type": "code",
   "execution_count": 126,
   "metadata": {
    "collapsed": false
   },
   "outputs": [],
   "source": [
    "b = list(set(range(MAX+1)).difference(set(possibles)))"
   ]
  },
  {
   "cell_type": "code",
   "execution_count": 127,
   "metadata": {
    "collapsed": false
   },
   "outputs": [
    {
     "data": {
      "text/plain": [
       "4179871"
      ]
     },
     "execution_count": 127,
     "metadata": {},
     "output_type": "execute_result"
    }
   ],
   "source": [
    "sum(b)"
   ]
  },
  {
   "cell_type": "code",
   "execution_count": null,
   "metadata": {
    "collapsed": true
   },
   "outputs": [],
   "source": []
  }
 ],
 "metadata": {
  "kernelspec": {
   "display_name": "Python 2",
   "language": "python",
   "name": "python2"
  },
  "language_info": {
   "codemirror_mode": {
    "name": "ipython",
    "version": 2
   },
   "file_extension": ".py",
   "mimetype": "text/x-python",
   "name": "python",
   "nbconvert_exporter": "python",
   "pygments_lexer": "ipython2",
   "version": "2.7.10"
  }
 },
 "nbformat": 4,
 "nbformat_minor": 0
}
